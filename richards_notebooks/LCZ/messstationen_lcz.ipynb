{
 "cells": [
  {
   "cell_type": "code",
   "execution_count": 17,
   "metadata": {},
   "outputs": [],
   "source": [
    "import rasterio\n",
    "import geopandas as gpd\n",
    "import pandas as pd\n",
    "import numpy as np\n",
    "import folium\n",
    "import matplotlib.colors as mcolors\n",
    "from rasterio.plot import show\n",
    "from rasterio.transform import rowcol"
   ]
  },
  {
   "cell_type": "code",
   "execution_count": 24,
   "metadata": {},
   "outputs": [
    {
     "name": "stdout",
     "output_type": "stream",
     "text": [
      "       Geogr.Laenge  Geogr.Breite\n",
      "count     11.000000     11.000000\n",
      "mean       9.179880     47.668770\n",
      "std        0.019245      0.008217\n",
      "min        9.147058     47.658239\n",
      "25%        9.171379     47.662143\n",
      "50%        9.177239     47.667215\n",
      "75%        9.185754     47.673042\n",
      "max        9.214489     47.682119\n"
     ]
    }
   ],
   "source": [
    "filepath = \"/Users/richie/Projects/smart-green-city-konstanz/richards_notebooks/LCZ/data/messstationen_meta.csv\"\n",
    "mess_meta = pd.read_csv(filepath, sep=\";\")\n",
    "mess_meta\n",
    "print(mess_meta[['Geogr.Laenge', 'Geogr.Breite']].describe())"
   ]
  },
  {
   "cell_type": "code",
   "execution_count": 14,
   "metadata": {},
   "outputs": [
    {
     "data": {
      "text/plain": [
       "[{'Name': 'Döbele',\n",
       "  'Geografische Breite': 9.16889836,\n",
       "  'Geografische Länge': 47.65823856,\n",
       "  'LCZ_Class': np.int16(15)},\n",
       " {'Name': 'Europapark',\n",
       "  'Geografische Breite': 9.16282324,\n",
       "  'Geografische Länge': 47.66721463,\n",
       "  'LCZ_Class': np.int16(9)},\n",
       " {'Name': 'Fähre Staad',\n",
       "  'Geografische Breite': 9.20933772,\n",
       "  'Geografische Länge': 47.68211852,\n",
       "  'LCZ_Class': np.int16(5)},\n",
       " {'Name': 'Friedrichstrasse',\n",
       "  'Geografische Breite': 9.18375494,\n",
       "  'Geografische Länge': 47.67557538,\n",
       "  'LCZ_Class': np.int16(5)},\n",
       " {'Name': 'Herose-Park',\n",
       "  'Geografische Breite': 9.17457428,\n",
       "  'Geografische Länge': 47.66905485,\n",
       "  'LCZ_Class': np.int16(9)},\n",
       " {'Name': 'Hörnle',\n",
       "  'Geografische Breite': 9.21448949,\n",
       "  'Geografische Länge': 47.66702444,\n",
       "  'LCZ_Class': np.int16(9)},\n",
       " {'Name': 'Mainaustrasse',\n",
       "  'Geografische Breite': 9.1877523,\n",
       "  'Geografische Länge': 47.67050958,\n",
       "  'LCZ_Class': np.int16(9)},\n",
       " {'Name': 'Marktstätte',\n",
       "  'Geografische Breite': 9.17723865,\n",
       "  'Geografische Länge': 47.6604731,\n",
       "  'LCZ_Class': np.int16(8)},\n",
       " {'Name': 'Riedstrasse',\n",
       "  'Geografische Breite': 9.14705786,\n",
       "  'Geografische Länge': 47.6819759,\n",
       "  'LCZ_Class': np.int16(8)},\n",
       " {'Name': 'Stadtgarten',\n",
       "  'Geografische Breite': 9.17889136,\n",
       "  'Geografische Länge': 47.66241869,\n",
       "  'LCZ_Class': np.int16(9)},\n",
       " {'Name': 'Stephansplatz',\n",
       "  'Geografische Breite': 9.17386062,\n",
       "  'Geografische Länge': 47.66186644,\n",
       "  'LCZ_Class': np.int16(2)}]"
      ]
     },
     "execution_count": 14,
     "metadata": {},
     "output_type": "execute_result"
    }
   ],
   "source": [
    "#Maja\n",
    "import geopandas as gpd\n",
    "import matplotlib.pyplot as plt\n",
    "\n",
    "#LCZ-Raster laden (Koordinatenreferenzsystem: EPSG:4326)\n",
    "lcz_path =\"/Users/richie/Projects/smart-green-city-konstanz/richards_notebooks/LCZ/data/4381f9078b2704eac4c9ab8c1631439c4ccff939.tif\"\n",
    "\n",
    "#Kleinräumige Gliederung (?) \n",
    "geojson_path = \"/Users/richie/Projects/smart-green-city-konstanz/majas_notebooks/Kleinräumige_Gliederung_4330766187849128049.geojson\"\n",
    "\n",
    "# Stadtteile von Konstanz laden (GeoJSON-Datei erforderlich)\n",
    "stadtteile = gpd.read_file(geojson_path)\n",
    "\n",
    "# raster laden\n",
    "raster = rasterio.open(lcz_path)\n",
    "\n",
    "named_coordinates = list(zip(mess_meta[\"name\"],mess_meta[\"Geogr.Laenge\"], mess_meta[\"Geogr.Breite\"]))\n",
    "\n",
    "# Koordinaten nutzen um Local Climate Zone Werte aus Raster zu extrahieren\n",
    "results = []\n",
    "for name,breite,länge in named_coordinates:\n",
    "    # Koordinaten in Pixel (Zeile, Spalte) im Raster umwandeln\n",
    "    row, col = rowcol(raster.transform, breite, länge)\n",
    "    \n",
    "    # LCZ-Wert an dieser Position auslesen\n",
    "    lcz_value = raster.read(1)[row, col]\n",
    "    \n",
    "    # Ergebnis mit Namen speichern\n",
    "    results.append({\"Name\": name, \"Geografische Breite\": breite, \"Geografische Länge\": länge, \"LCZ_Class\": lcz_value})\n",
    "\n",
    "results"
   ]
  },
  {
   "cell_type": "code",
   "execution_count": null,
   "metadata": {},
   "outputs": [],
   "source": [
    "\n",
    "# 12 Beispielkoordinaten für Messstationen (müssen echte Werte ersetzt werden) # sind das nicht die echten Werte? \n",
    "messstationen = gpd.GeoDataFrame(\n",
    "    mess_meta,\n",
    "    geometry=gpd.points_from_xy(mess_meta[\"Geogr.Laenge\"], mess_meta[\"Geogr.Breite\"]),\n",
    "    crs=\"EPSG:4326\"\n",
    ")\n",
    "\n",
    "# Karte erstellen\n",
    "fig, ax = plt.subplots(figsize=(10, 12))\n",
    "stadtteile.plot(ax=ax, color=\"lightgrey\", edgecolor=\"black\")\n",
    "# Stadtteilnamen hinzufügen\n",
    "for idx, row in stadtteile.iterrows():\n",
    "    centroid = row.geometry.centroid\n",
    "    ax.text(centroid.x, centroid.y, row[\"STT_NAME\"], fontsize=6, ha='center', va='center', color='black', bbox=dict(facecolor='white', alpha=0.7, edgecolor='none'))\n",
    "\n",
    "\n",
    "messstationen.plot(ax=ax, color=\"red\", marker=\"o\", label=\"Messstationen\")\n",
    "for idx, row in messstationen.iterrows():\n",
    "    ax.text(row.geometry.x, row.geometry.y, row[\"name\"], fontsize=8, ha='right', va='bottom', color='black')\n",
    "\n",
    "# Titel und Legende\n",
    "ax.set_title(\"Stadtteile von Konstanz mit Messstationen\")\n",
    "plt.legend()\n",
    "plt.show()\n"
   ]
  },
  {
   "cell_type": "code",
   "execution_count": 23,
   "metadata": {},
   "outputs": [
    {
     "name": "stdout",
     "output_type": "stream",
     "text": [
      "0     MultiPolygon\n",
      "1          Polygon\n",
      "2     MultiPolygon\n",
      "3          Polygon\n",
      "4          Polygon\n",
      "5          Polygon\n",
      "6          Polygon\n",
      "7          Polygon\n",
      "8          Polygon\n",
      "9          Polygon\n",
      "10    MultiPolygon\n",
      "11         Polygon\n",
      "12         Polygon\n",
      "13         Polygon\n",
      "14         Polygon\n",
      "dtype: object\n"
     ]
    }
   ],
   "source": [
    "print(messstationen.geometry.type)"
   ]
  },
  {
   "cell_type": "code",
   "execution_count": 22,
   "metadata": {},
   "outputs": [
    {
     "name": "stdout",
     "output_type": "stream",
     "text": [
      "['MultiPolygon' 'Polygon']\n"
     ]
    }
   ],
   "source": [
    "print(messstationen.geometry.geom_type.unique())"
   ]
  },
  {
   "cell_type": "code",
   "execution_count": 21,
   "metadata": {},
   "outputs": [
    {
     "ename": "AttributeError",
     "evalue": "'MultiPolygon' object has no attribute 'y'",
     "output_type": "error",
     "traceback": [
      "\u001b[0;31m---------------------------------------------------------------------------\u001b[0m",
      "\u001b[0;31mAttributeError\u001b[0m                            Traceback (most recent call last)",
      "Cell \u001b[0;32mIn[21], line 64\u001b[0m\n\u001b[1;32m     61\u001b[0m \u001b[38;5;66;03m# Messstationen als Marker hinzufügen\u001b[39;00m\n\u001b[1;32m     62\u001b[0m \u001b[38;5;28;01mfor\u001b[39;00m _, row \u001b[38;5;129;01min\u001b[39;00m messstationen\u001b[38;5;241m.\u001b[39miterrows():\n\u001b[1;32m     63\u001b[0m     folium\u001b[38;5;241m.\u001b[39mMarker(\n\u001b[0;32m---> 64\u001b[0m         location\u001b[38;5;241m=\u001b[39m[\u001b[43mrow\u001b[49m\u001b[38;5;241;43m.\u001b[39;49m\u001b[43mgeometry\u001b[49m\u001b[38;5;241;43m.\u001b[39;49m\u001b[43my\u001b[49m, row\u001b[38;5;241m.\u001b[39mgeometry\u001b[38;5;241m.\u001b[39mx],\n\u001b[1;32m     65\u001b[0m         popup\u001b[38;5;241m=\u001b[39mrow[\u001b[38;5;124m\"\u001b[39m\u001b[38;5;124mname\u001b[39m\u001b[38;5;124m\"\u001b[39m],\n\u001b[1;32m     66\u001b[0m         icon\u001b[38;5;241m=\u001b[39mfolium\u001b[38;5;241m.\u001b[39mIcon(color\u001b[38;5;241m=\u001b[39m\u001b[38;5;124m\"\u001b[39m\u001b[38;5;124mred\u001b[39m\u001b[38;5;124m\"\u001b[39m, icon\u001b[38;5;241m=\u001b[39m\u001b[38;5;124m\"\u001b[39m\u001b[38;5;124minfo-sign\u001b[39m\u001b[38;5;124m\"\u001b[39m)\n\u001b[1;32m     67\u001b[0m     )\u001b[38;5;241m.\u001b[39madd_to(m)\n\u001b[1;32m     69\u001b[0m \u001b[38;5;66;03m# 📌 5. Zusätzliche Funktionen: Mausposition & Layer-Kontrolle\u001b[39;00m\n\u001b[1;32m     70\u001b[0m MousePosition()\u001b[38;5;241m.\u001b[39madd_to(m)\n",
      "\u001b[0;31mAttributeError\u001b[0m: 'MultiPolygon' object has no attribute 'y'"
     ]
    }
   ],
   "source": [
    "#ChatGPT überlappen\n",
    "import folium\n",
    "import rasterio\n",
    "import geopandas as gpd\n",
    "import numpy as np\n",
    "from rasterio.plot import show\n",
    "from folium.plugins import MousePosition\n",
    "\n",
    "# 📌 1. LCZ-Raster öffnen & speichern als PNG für Overlay\n",
    "\n",
    "png_path = \"lcz_overlay.png\"\n",
    "\n",
    "with rasterio.open(lcz_path) as src:\n",
    "    lcz_data = src.read(1)\n",
    "    lcz_transform = src.transform\n",
    "    bounds = src.bounds\n",
    "\n",
    "    # Farbschema für das Raster\n",
    "    import matplotlib.pyplot as plt\n",
    "    import matplotlib.colors as mcolors\n",
    "    \n",
    "    lcz_colors = {\n",
    "        1: \"#8B0000\", 2: \"#FF4500\", 3: \"#FFD700\",\n",
    "        4: \"#228B22\", 5: \"#00FA9A\", 6: \"#00CED1\",\n",
    "        7: \"#1E90FF\", 8: \"#4169E1\", 9: \"#8A2BE2\",\n",
    "        10: \"#A52A2A\", 11: \"#006400\", 12: \"#32CD32\",\n",
    "        13: \"#ADFF2F\", 14: \"#FFFF00\", 15: \"#D3D3D3\",\n",
    "        16: \"#DEB887\", 17: \"#4682B4\"\n",
    "    }\n",
    "\n",
    "    cmap = mcolors.ListedColormap([lcz_colors[i] for i in sorted(lcz_colors.keys())])\n",
    "    bounds_values = np.arange(1, 18)\n",
    "    norm = mcolors.BoundaryNorm(bounds_values, cmap.N)\n",
    "\n",
    "    # Speichern des Rasters als PNG\n",
    "    fig, ax = plt.subplots(figsize=(10, 10))\n",
    "    show(lcz_data, transform=lcz_transform, cmap=cmap, norm=norm, ax=ax)\n",
    "    plt.axis(\"off\")\n",
    "    plt.savefig(png_path, bbox_inches=\"tight\", pad_inches=0, dpi=300)\n",
    "    plt.close()\n",
    "\n",
    "# 📌 2. Folium-Karte erstellen\n",
    "m = folium.Map(location=[(bounds.top + bounds.bottom) / 2, (bounds.left + bounds.right) / 2], zoom_start=12)\n",
    "\n",
    "# 📌 3. Raster als Bild-Overlay einfügen\n",
    "image_overlay = folium.raster_layers.ImageOverlay(\n",
    "    image=png_path,\n",
    "    bounds=[[bounds.bottom, bounds.left], [bounds.top, bounds.right]],\n",
    "    opacity=0.6,\n",
    "    interactive=True\n",
    ")\n",
    "image_overlay.add_to(m)\n",
    "\n",
    "# 📌 4. Stadtteile & Messstationen hinzufügen\n",
    "stadtteile = gpd.read_file(geojson_path)\n",
    "#messstationen = gpd.read_file(geojson_path)\n",
    "\n",
    "# Stadtteile als Layer\n",
    "folium.GeoJson(stadtteile, name=\"Stadtteile\", style_function=lambda x: {\"color\": \"black\", \"weight\": 1}).add_to(m)\n",
    "\n",
    "# Messstationen als Marker hinzufügen\n",
    "for _, row in messstationen.iterrows():\n",
    "    folium.Marker(\n",
    "        location=[row.geometry.y, row.geometry.x],\n",
    "        popup=row[\"name\"],\n",
    "        icon=folium.Icon(color=\"red\", icon=\"info-sign\")\n",
    "    ).add_to(m)\n",
    "\n",
    "# 📌 5. Zusätzliche Funktionen: Mausposition & Layer-Kontrolle\n",
    "MousePosition().add_to(m)\n",
    "folium.LayerControl().add_to(m)\n",
    "\n",
    "# 📌 6. Karte anzeigen\n",
    "m"
   ]
  }
 ],
 "metadata": {
  "kernelspec": {
   "display_name": "data-projects",
   "language": "python",
   "name": "python3"
  },
  "language_info": {
   "codemirror_mode": {
    "name": "ipython",
    "version": 3
   },
   "file_extension": ".py",
   "mimetype": "text/x-python",
   "name": "python",
   "nbconvert_exporter": "python",
   "pygments_lexer": "ipython3",
   "version": "3.13.0"
  }
 },
 "nbformat": 4,
 "nbformat_minor": 2
}
