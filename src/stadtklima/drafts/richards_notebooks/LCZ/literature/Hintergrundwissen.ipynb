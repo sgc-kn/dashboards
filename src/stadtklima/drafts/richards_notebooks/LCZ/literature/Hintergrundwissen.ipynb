{
 "cells": [
  {
   "cell_type": "markdown",
   "id": "3f640b54-d21e-40fe-b203-7f590d179991",
   "metadata": {},
   "source": [
    "Local Climate Zones: \"Until recently, there was no universal approach to describe and characterize the physical nature of cities for urban climatologists — much of the existing terminology was not transferable across cultural and geographical regions.  To address this problem, and in particular to help standardize methods of observation and documentation in urban heat island studies, Stewart and Oke (2012) developed the Local Climate Zone (LCZ) classification scheme.  The scheme comprises 17 zones based mainly on properties of surface structure (e.g., building and tree height & density) and surface cover (pervious vs. impervious).  Each zone is local in scale, meaning it represents horizontal distances of 100s of metres to several kilometres.  The scheme is a logical starting point for WUDAPT’s aim to gather consistent information across cities globally.\"\n"
   ]
  },
  {
   "cell_type": "markdown",
   "id": "ccdd41ce-2f97-4b46-9445-376c0abd2cae",
   "metadata": {},
   "source": [
    "- Werkzeug: LCZ-Generator der Ruhr-Uni Bochum.\n",
    "- User Input:\n",
    "1) Personal Information ( Name,Email)\n",
    "2) Training Area information ( Continent,Country,city name, training area file, date,)\n",
    "   - training area file:\n",
    "   - muss einen oder mehrere LCZ Ordner enthalten, so wie im \"WUDAPT LCZ.kml template\" (Hier der Link zur Info wie TAs kreiert werden sollen https://www.wudapt.org/digitize-training-areas/) \n",
    "   - World Urban Database and Access Portal Tools (WUDAPT)\n",
    "\"WUDAPT LCZ .kml template\":\n",
    "\n",
    "- Output of LCZ Generator:\n",
    "- \"Die Ausgabe des LCZ Generators ist in der Regel eine Rasterdatei im GeoTIFF-Format (.tif). Diese Rasterdatei enthält die LCZ-Klassifikationen für jede Zelle in der Karte.\"\n",
    "  auch zusätzlich\n",
    "\n",
    "  Zusätzlich erzeugt der LCZ Generator oft weitere Dateien:\n",
    "\n",
    "    KMZ/KML-Dateien → für die Visualisierung in Google Earth\n",
    "    Shapefiles (.shp, .shx, .dbf) → für GIS-Anwendungen (QGIS, ArcGIS)\n",
    "    Konfusionsmatrix & Statistiken → zur Bewertung der Klassifikationsgenauigkeit\n",
    "    Boxplots & Karten → zur Visualisierung der Unsicherheit\n"
   ]
  },
  {
   "cell_type": "markdown",
   "id": "1d92f522-d053-41f1-97be-7361cd4980bc",
   "metadata": {},
   "source": [
    "The classification itself is performed in Google's Earth Engine (EE, Gorelick et al. (2017) ) platform, as it hosts the \n",
    "34 pre-processed earth observation (satellite) input features. The latter - combined with your training areas - are fed into a random forest\n",
    "classifier to map your area of interest into Local Climate Zones. \n",
    "The LCZ map sent via email is obtained using all training data, and is Gaussian-filtered"
   ]
  },
  {
   "cell_type": "markdown",
   "id": "d9e55b34-1578-4d31-829e-00e04fbda616",
   "metadata": {},
   "source": [
    "1) get the template file containing the sub-folders for urban (1-10) and natural zones (101-107)\n",
    "1) Start with an area that you are familiar with ( e.g. an area that contains only mid-rise buildings: LCZ2 (compact mid-rise)\n",
    "2) After having identified the zone, you have to generate a polygon which captures this as a training site. How do I draw a polygon? Google Earth! How big should it be, and what shape? (minimum mapping unit should be 250-500meters on the side, as uniform shape as possible\n",
    "3) also get natural areas: compact trees,\n",
    "4) get all sides from the whole city, do not concentrate on a small area, atleast one type of area from all sides"
   ]
  },
  {
   "cell_type": "markdown",
   "id": "4f372518",
   "metadata": {},
   "source": [
    "To-Do:\n",
    "Die LCZ Geodaten müssen mit unseren Messstationen verknüpft werden. \n",
    "Wir wollen wissen für jede Station in welcher LCZ sie liegt. \n",
    "\n",
    "Ich habe die ungefähren Koordinaten der Messstationen. Ich habe das geotif (LCZ-Raster für Konstanz)\n",
    "Ich muss die Koordinaten der Messstationen in das Raster-Pixel-Koordinatensystem\n",
    "Lese die LCZ-Werte für die Pixel aus. "
   ]
  }
 ],
 "metadata": {
  "kernelspec": {
   "display_name": "Python 3 (ipykernel)",
   "language": "python",
   "name": "python3"
  },
  "language_info": {
   "codemirror_mode": {
    "name": "ipython",
    "version": 3
   },
   "file_extension": ".py",
   "mimetype": "text/x-python",
   "name": "python",
   "nbconvert_exporter": "python",
   "pygments_lexer": "ipython3",
   "version": "3.10.9"
  }
 },
 "nbformat": 4,
 "nbformat_minor": 5
}
