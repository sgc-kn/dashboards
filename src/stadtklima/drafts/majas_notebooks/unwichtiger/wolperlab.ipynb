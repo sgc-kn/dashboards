{
 "cells": [
  {
   "cell_type": "markdown",
   "metadata": {},
   "source": [
    "Stand:03.02.25\n",
    "\n",
    "https://schwammdrauf.wolperlab.de/\n",
    "\n",
    "https://gitlab.com/wolperlab/schwammdrauf\n",
    "\n",
    "\n",
    "Ziel: Herausfinden, was wir von dem Code nutzen können/wollen\n",
    "\n",
    "Ergebnis: Eher nein :) \n",
    "\n"
   ]
  },
  {
   "cell_type": "code",
   "execution_count": 1,
   "metadata": {},
   "outputs": [],
   "source": [
    "# siehe: c:\\Users\\majaf\\AppData\\Local\\Temp\\Mindmap_Technische_Umsetzung-1.svg"
   ]
  },
  {
   "cell_type": "code",
   "execution_count": null,
   "metadata": {},
   "outputs": [],
   "source": []
  },
  {
   "cell_type": "code",
   "execution_count": null,
   "metadata": {},
   "outputs": [],
   "source": []
  }
 ],
 "metadata": {
  "kernelspec": {
   "display_name": "sensor-env",
   "language": "python",
   "name": "python3"
  },
  "language_info": {
   "codemirror_mode": {
    "name": "ipython",
    "version": 3
   },
   "file_extension": ".py",
   "mimetype": "text/x-python",
   "name": "python",
   "nbconvert_exporter": "python",
   "pygments_lexer": "ipython3",
   "version": "3.12.8"
  }
 },
 "nbformat": 4,
 "nbformat_minor": 2
}
