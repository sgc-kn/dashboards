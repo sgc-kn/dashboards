{
 "cells": [
  {
   "cell_type": "markdown",
   "metadata": {},
   "source": [
    "Stand: 03.02.25\n",
    "\n",
    "Quellen: \n",
    "- https://www.konstanz.de/leben+in+konstanz/umwelt/luftreinhaltung\n",
    "- https://www.lubw.baden-wuerttemberg.de/luft/messwerte-immissionswerte?comp=LUQX&id=DEBW052#diagramm \n",
    "    - interessante Diagramme, aber wo ist die Messstelle? -> Wallgutstraße 14 (s. pdf: https://www.lubw.baden-wuerttemberg.de/documents/10184/1007945/DEBW052_KN.pdf)\n",
    "    - gibt es nur eine?\n",
    "\n",
    "- https://smart-green-city-konstanz.de/node/54 -> da steht kaum was\n",
    "\n",
    "- https://offenedaten-konstanz.de/dataset/kohlendioxid-emissionen-kommunale-co2-bilanzen-stadt-konstanz (alle offenen Daten - auch viel zu Radverkehr)\n",
    "- https://offenedaten-konstanz.de/dataset/co-werte-konstanz  -> Daten mit Smart Citizen Kits erhoben -> 6 Messtellen 2020 bis 2021 weniger als 1 Jahr!\n",
    "- https://offenedaten-konstanz.de/dataset/umweltdaten-smart-citizen-kits-pilotprojekt weitere Umweltdaten mit die Kits erhoben \n",
    "- Klimadaten: LUBW: https://udo.lubw.baden-wuerttemberg.de/public/\n",
    "- Berichte Luftqualität LUBW: https://pudi.lubw.de/publikationen?_de_xdot_lubw_pudi_frontend_web_portlet_SearchPortlet_formDate=1575885678321&_de_xdot_lubw_pudi_frontend_web_portlet_SearchPortlet_facetFilterQuery=&p_p_id=de_xdot_lubw_pudi_frontend_web_portlet_SearchPortlet&p_p_lifecycle=0&p_p_state=normal&p_p_mode=view&_de_xdot_lubw_pudi_frontend_web_portlet_SearchPortlet_mvcPath=%2Fhtml%2Fsearch%2Fview.jsp&_de_xdot_lubw_pudi_frontend_web_portlet_SearchPortlet_orderByCol=publisher-publications-first&_de_xdot_lubw_pudi_frontend_web_portlet_SearchPortlet_orderByType=asc&_de_xdot_lubw_pudi_frontend_web_portlet_SearchPortlet_backURL=https%3A%2F%2Fpudi.lubw.de%3A443%2Fpublikationen%3Fp_p_id%3Dde_xdot_lubw_pudi_frontend_web_portlet_SearchPortlet%26p_p_lifecycle%3D0%26p_p_state%3Dnormal%26p_p_mode%3Dview%26_de_xdot_lubw_pudi_frontend_web_portlet_SearchPortlet_fullTextSearch%3Dfalse%26_de_xdot_lubw_pudi_frontend_web_portlet_SearchPortlet_checkboxNames%3DfullTextSearch%26_de_xdot_lubw_pudi_frontend_web_portlet_SearchPortlet_mvcPath%3D%252Fhtml%252Fsearch%252Fview.jsp%26_de_xdot_lubw_pudi_frontend_web_portlet_SearchPortlet_keywords%3DJahresdaten%26_de_xdot_lubw_pudi_frontend_web_portlet_SearchPortlet_orderByCol%3Dpublisher-publications-first%26_de_xdot_lubw_pudi_frontend_web_portlet_SearchPortlet_formDate%3D1575885653648%26_de_xdot_lubw_pudi_frontend_web_portlet_SearchPortlet_orderByType%3Dasc%26_de_xdot_lubw_pudi_frontend_web_portlet_SearchPortlet_facetFilterQuery%3D&_de_xdot_lubw_pudi_frontend_web_portlet_SearchPortlet_keywords=Luft+Jahresdaten&_de_xdot_lubw_pudi_frontend_web_portlet_SearchPortlet_checkboxNames=fullTextSearch\n"
   ]
  },
  {
   "cell_type": "code",
   "execution_count": null,
   "metadata": {},
   "outputs": [],
   "source": []
  },
  {
   "cell_type": "code",
   "execution_count": null,
   "metadata": {},
   "outputs": [],
   "source": []
  },
  {
   "cell_type": "code",
   "execution_count": null,
   "metadata": {},
   "outputs": [],
   "source": []
  },
  {
   "cell_type": "code",
   "execution_count": null,
   "metadata": {},
   "outputs": [],
   "source": []
  }
 ],
 "metadata": {
  "kernelspec": {
   "display_name": "sensor-env",
   "language": "python",
   "name": "python3"
  },
  "language_info": {
   "name": "python",
   "version": "3.12.8"
  }
 },
 "nbformat": 4,
 "nbformat_minor": 2
}
